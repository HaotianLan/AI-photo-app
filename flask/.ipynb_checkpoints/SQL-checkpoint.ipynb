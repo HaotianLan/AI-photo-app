{
 "cells": [
  {
   "cell_type": "code",
   "execution_count": null,
   "id": "8e5d05f1",
   "metadata": {},
   "outputs": [],
   "source": [
    "from sqlalchemy import create_engine, Column, Integer, String\n",
    "from sqlalchemy.ext.declarative import declarative_base\n",
    "from sqlalchemy.orm import sessionmaker\n",
    "\n",
    "# 1. 创建数据库连接（这里用的是 SQLite）\n",
    "engine = create_engine('sqlite:///my_database.db', echo=True)\n",
    "\n",
    "# 2. 声明基类\n",
    "Base = declarative_base()\n",
    "\n",
    "# 3. 定义表结构（即类）\n",
    "class User(Base):\n",
    "    __tablename__ = 'users'  # 表名\n",
    "    id = Column(Integer, primary_key=True)\n",
    "    name = Column(String)\n",
    "    age = Column(Integer)\n",
    "\n",
    "# 4. 创建表\n",
    "Base.metadata.create_all(engine)\n",
    "\n",
    "# 5. 创建会话 Session\n",
    "Session = sessionmaker(bind=engine)\n",
    "session = Session()\n",
    "\n",
    "# 6. 插入数据\n",
    "new_user = User(name=\"Alice\", age=25)\n",
    "session.add(new_user)\n",
    "session.commit()\n",
    "\n",
    "# 7. 查询数据\n",
    "all_users = session.query(User).all()\n",
    "for user in all_users:\n",
    "    print(user.id, user.name, user.age)\n",
    "\n",
    "# 8. 关闭会话\n",
    "session.close()\n"
   ]
  }
 ],
 "metadata": {
  "kernelspec": {
   "display_name": "Python (openai)",
   "language": "python",
   "name": "openai"
  },
  "language_info": {
   "codemirror_mode": {
    "name": "ipython",
    "version": 3
   },
   "file_extension": ".py",
   "mimetype": "text/x-python",
   "name": "python",
   "nbconvert_exporter": "python",
   "pygments_lexer": "ipython3",
   "version": "3.11.11"
  }
 },
 "nbformat": 4,
 "nbformat_minor": 5
}
