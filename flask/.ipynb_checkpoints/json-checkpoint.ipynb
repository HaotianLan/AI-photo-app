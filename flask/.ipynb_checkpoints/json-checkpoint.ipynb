{
 "cells": [
  {
   "cell_type": "code",
   "execution_count": 1,
   "id": "59751818",
   "metadata": {},
   "outputs": [
    {
     "name": "stdout",
     "output_type": "stream",
     "text": [
      "{'img': 'adorable_snap/1 (1).png', 'label': {'人数': ['双人'], '人物关系': ['情侣'], '风格': ['胶片质感'], '色系': ['暖色调', '饱和度低'], '季节主题': ['春季', '秋季'], '节日主题': None, '特殊活动': ['婚礼'], '服饰': ['休闲装'], '场景': ['CBD'], '时间': ['正午'], '天气': ['晴天'], '道具': ['花束']}, 'prompt': ['并排坐下，自然放松', '看向对方，轻吻', '花束放在身旁']}\n"
     ]
    }
   ],
   "source": [
    "import os\n",
    "import json\n",
    "\n",
    "json_name = 'Image_dataset.json'\n",
    "with open(json_name,\"r\") as f:\n",
    "    load_prompt = json.load(f)\n",
    "print(load_prompt[0])"
   ]
  },
  {
   "cell_type": "code",
   "execution_count": 2,
   "id": "173ea4cc",
   "metadata": {},
   "outputs": [
    {
     "name": "stdout",
     "output_type": "stream",
     "text": [
      "{'单人': None, '双人': None, '小团体（3-5人）': None, '大团体（6-10人）': None, '大群体（10人以上）': None, '朋友': None, '情侣': None, '闺蜜': None, '亲子': None, '商业伙伴': None, '宠物': None, '暖色调': None, '冷色调': None, '饱和度高': None, '饱和度低': None, '明度亮': None, '明度暗': None, '春节': None, '万圣节': None, '圣诞节': None, '情人节': None, '端午节': None, '中秋节': None, '婚礼': None, '毕业': None, '生日': None, '旅行': None, '汉服': None, '波西米亚': None, 'JK': None, '和风': None, '美式街头': None, '西装': None, '休闲装': None, 'cosplay': None, '森系': None, '家庭': None, '影棚': None, '咖啡馆': None, '图书馆': None, '精品店': None, '教室': None, 'CBD': None, '历史街区': None, '天台': None, '地铁站': None, '桥梁': None, '街道': None, '中式园林': None, '公园草地': None, '湖泊': None, '路牌': None, '动物园': None, '迪士尼': None, '漫展': None, '自然': None, '清晨': None, '正午': None, '黄昏': None, '夜晚': None, '黄金时刻': None, '晴天': None, '雾霾': None, '阴天': None, '绵绵小雨': None, '大雨': None, '飘雪': None, '大雪': None, '极光': None, '花束': None, '乐器': None, '书籍': None, '泡泡机': None, '粉笔': None, '气球': None, '玩偶': None, '笔': None}\n"
     ]
    }
   ],
   "source": [
    "import copy\n",
    "\n",
    "label_txt = '单人/双人/小团体（3-5人）/大团体（6-10人）/大群体（10人以上）/朋友/情侣/闺蜜/亲子/商业伙伴/宠物/暖色调/冷色调/饱和度高/饱和度低/明度亮/明度暗/春节/万圣节/圣诞节/情人节/端午节/中秋节/婚礼/毕业/生日/旅行/汉服/波西米亚/JK/和风/美式街头/西装/休闲装/cosplay/森系/家庭/影棚/咖啡馆/图书馆/精品店/教室/CBD/历史街区/天台/地铁站/桥梁/街道/中式园林/公园草地/湖泊/路牌/动物园/迪士尼/漫展/自然/清晨/正午/黄昏/夜晚/黄金时刻/晴天/雾霾/阴天/绵绵小雨/大雨/飘雪/大雪/极光/花束/乐器/书籍/泡泡机/粉笔/气球/玩偶/笔'\n",
    "label_lst = label_txt.split('/')\n",
    "label_dic = {}\n",
    "for i in range(len(label_lst)):\n",
    "    label_dic[label_lst[i]] = None\n",
    "print(label_dic)\n",
    "\n",
    "change_label = []\n",
    "for i in range(len(load_prompt)):\n",
    "    label_dict = copy.copy(label_dic)\n",
    "    img = load_prompt[i]['img']\n",
    "    label = load_prompt[i]['label']\n",
    "    propmt = load_prompt[i]['prompt']\n",
    "    label_item = []\n",
    "    for key in label:\n",
    "        if label[key] != None:\n",
    "            for item in label[key]:\n",
    "                label_item.append(item)\n",
    "    #print(label_item)\n",
    "    for key_new in label_item:\n",
    "        if key_new in label_dict:\n",
    "            label_dict[key_new] = True\n",
    "    change_label.append({'img':img,'label':label_dict,'propmt':propmt})\n",
    "    #print(label_dict)\n",
    "\n",
    "json_name = 'Image_dataset_change2.json'\n",
    "with open(json_name,\"w\") as f:\n",
    "    json.dump(change_label,f)"
   ]
  },
  {
   "cell_type": "code",
   "execution_count": 5,
   "id": "fa63a2e8",
   "metadata": {},
   "outputs": [
    {
     "name": "stdout",
     "output_type": "stream",
     "text": [
      "{'img': 'adorable_snap/1 (1).png', 'label': {'单人': None, '双人': True, '小团体（3-5人）': None, '大团体（6-10人）': None, '大群体（10人以上）': None, '朋友': None, '情侣': True, '闺蜜': None, '亲子': None, '商业伙伴': None, '宠物': None, '暖色调': True, '冷色调': None, '饱和度高': None, '饱和度低': True, '明度亮': None, '明度暗': None, '春节': None, '万圣节': None, '圣诞节': None, '情人节': None, '端午节': None, '中秋节': None, '婚礼': True, '毕业': None, '生日': None, '旅行': None, '汉服': None, '波西米亚': None, 'JK': None, '和风': None, '美式街头': None, '西装': None, '休闲装': True, 'cosplay': None, '森系': None, '家庭': None, '影棚': None, '咖啡馆': None, '图书馆': None, '精品店': None, '教室': None, 'CBD': True, '历史街区': None, '天台': None, '地铁站': None, '桥梁': None, '街道': None, '中式园林': None, '公园草地': None, '湖泊': None, '路牌': None, '动物园': None, '迪士尼': None, '漫展': None, '自然': None, '清晨': None, '正午': True, '黄昏': None, '夜晚': None, '黄金时刻': None, '晴天': True, '雾霾': None, '阴天': None, '绵绵小雨': None, '大雨': None, '飘雪': None, '大雪': None, '极光': None, '花束': True, '乐器': None, '书籍': None, '泡泡机': None, '粉笔': None, '气球': None, '玩偶': None, '笔': None}}\n"
     ]
    }
   ],
   "source": [
    "import os\n",
    "import json\n",
    "\n",
    "json_name = 'Image_dataset_change.json'\n",
    "with open(json_name,\"r\") as f:\n",
    "    load_prompt = json.load(f)\n",
    "print(load_prompt[0])"
   ]
  },
  {
   "cell_type": "code",
   "execution_count": 3,
   "id": "f7dc2bab",
   "metadata": {},
   "outputs": [],
   "source": [
    "new_propmt = []\n",
    "for i in range(len(load_prompt)):\n",
    "    if load_prompt[i]['img'].split('/')[0] == '小红书 - 校园':\n",
    "        load_prompt[i]['img'] = 'xhs_school'+'/'+load_prompt[i]['img'].split('/')[1]\n",
    "        new_propmt.append(load_prompt[i])\n",
    "\n",
    "json_name = 'xhs_school2.json'\n",
    "with open(json_name,\"w\") as f:\n",
    "    json.dump(new_propmt,f)"
   ]
  },
  {
   "cell_type": "code",
   "execution_count": 4,
   "id": "3a8b5d5e",
   "metadata": {},
   "outputs": [
    {
     "name": "stdout",
     "output_type": "stream",
     "text": [
      "{'img': 'xhs_school/Camera_1040g34o31djd7j4ugc505n2aef24k7dda7d18fo.jpg', 'label': {'人数': ['单人'], '人物关系': None, '风格': ['日系清新'], '色系': ['暖色调'], '季节主题': ['秋季', '春季'], '节日主题': None, '特殊活动': None, '服饰': ['休闲装'], '场景': ['公园草地'], '时间': None, '天气': None, '道具': ['书籍']}, 'prompt': ['平视镜头，眼神交流', '手扶耳机，自然放松', '打开书本，放在腿上', '坐在草地，靠近球门', '利用光线，柔和自然']}\n"
     ]
    }
   ],
   "source": [
    "import os\n",
    "import json\n",
    "\n",
    "json_name = 'xhs_school2.json'\n",
    "with open(json_name,\"r\") as f:\n",
    "    load_prompt = json.load(f)\n",
    "print(load_prompt[0])"
   ]
  },
  {
   "cell_type": "code",
   "execution_count": 5,
   "id": "2ac590dc",
   "metadata": {},
   "outputs": [
    {
     "name": "stdout",
     "output_type": "stream",
     "text": [
      "{'单人': None, '双人': None, '小团体（3-5人）': None, '大团体（6-10人）': None, '大群体（10人以上）': None, '朋友': None, '情侣': None, '闺蜜': None, '亲子': None, '商业伙伴': None, '宠物': None, '暖色调': None, '冷色调': None, '饱和度高': None, '饱和度低': None, '明度亮': None, '明度暗': None, '春节': None, '万圣节': None, '圣诞节': None, '情人节': None, '端午节': None, '中秋节': None, '婚礼': None, '毕业': None, '生日': None, '旅行': None, '汉服': None, '波西米亚': None, 'JK': None, '和风': None, '美式街头': None, '西装': None, '休闲装': None, 'cosplay': None, '森系': None, '家庭': None, '影棚': None, '咖啡馆': None, '图书馆': None, '精品店': None, '教室': None, 'CBD': None, '历史街区': None, '天台': None, '地铁站': None, '桥梁': None, '街道': None, '中式园林': None, '公园草地': None, '湖泊': None, '路牌': None, '动物园': None, '迪士尼': None, '漫展': None, '自然': None, '清晨': None, '正午': None, '黄昏': None, '夜晚': None, '黄金时刻': None, '晴天': None, '雾霾': None, '阴天': None, '绵绵小雨': None, '大雨': None, '飘雪': None, '大雪': None, '极光': None, '花束': None, '乐器': None, '书籍': None, '泡泡机': None, '粉笔': None, '气球': None, '玩偶': None, '笔': None}\n"
     ]
    }
   ],
   "source": [
    "import copy\n",
    "\n",
    "label_txt = '单人/双人/小团体（3-5人）/大团体（6-10人）/大群体（10人以上）/朋友/情侣/闺蜜/亲子/商业伙伴/宠物/暖色调/冷色调/饱和度高/饱和度低/明度亮/明度暗/春节/万圣节/圣诞节/情人节/端午节/中秋节/婚礼/毕业/生日/旅行/汉服/波西米亚/JK/和风/美式街头/西装/休闲装/cosplay/森系/家庭/影棚/咖啡馆/图书馆/精品店/教室/CBD/历史街区/天台/地铁站/桥梁/街道/中式园林/公园草地/湖泊/路牌/动物园/迪士尼/漫展/自然/清晨/正午/黄昏/夜晚/黄金时刻/晴天/雾霾/阴天/绵绵小雨/大雨/飘雪/大雪/极光/花束/乐器/书籍/泡泡机/粉笔/气球/玩偶/笔'\n",
    "label_lst = label_txt.split('/')\n",
    "label_dic = {}\n",
    "for i in range(len(label_lst)):\n",
    "    label_dic[label_lst[i]] = None\n",
    "print(label_dic)\n",
    "\n",
    "change_label = []\n",
    "for i in range(len(load_prompt)):\n",
    "    label_dict = copy.copy(label_dic)\n",
    "    img = load_prompt[i]['img']\n",
    "    label = load_prompt[i]['label']\n",
    "    propmt = load_prompt[i]['prompt']\n",
    "    label_item = []\n",
    "    for key in label:\n",
    "        if label[key] != None:\n",
    "            for item in label[key]:\n",
    "                label_item.append(item)\n",
    "    #print(label_item)\n",
    "    for key_new in label_item:\n",
    "        if key_new in label_dict:\n",
    "            label_dict[key_new] = True\n",
    "    change_label.append({'img':img,'label':label_dict,'prompt':propmt})\n",
    "    #print(label_dict)\n",
    "\n",
    "json_name = 'xhs_school_change2.json'\n",
    "with open(json_name,\"w\") as f:\n",
    "    json.dump(change_label,f)"
   ]
  },
  {
   "cell_type": "code",
   "execution_count": 6,
   "id": "3f335d59",
   "metadata": {},
   "outputs": [
    {
     "name": "stdout",
     "output_type": "stream",
     "text": [
      "[{'img': 'xhs_school/Camera_1040g34o31djd7j4ugc505n2aef24k7dda7d18fo.jpg', 'label': {'单人': True, '双人': None, '小团体（3-5人）': None, '大团体（6-10人）': None, '大群体（10人以上）': None, '朋友': None, '情侣': None, '闺蜜': None, '亲子': None, '商业伙伴': None, '宠物': None, '暖色调': True, '冷色调': None, '饱和度高': None, '饱和度低': None, '明度亮': None, '明度暗': None, '春节': None, '万圣节': None, '圣诞节': None, '情人节': None, '端午节': None, '中秋节': None, '婚礼': None, '毕业': None, '生日': None, '旅行': None, '汉服': None, '波西米亚': None, 'JK': None, '和风': None, '美式街头': None, '西装': None, '休闲装': True, 'cosplay': None, '森系': None, '家庭': None, '影棚': None, '咖啡馆': None, '图书馆': None, '精品店': None, '教室': None, 'CBD': None, '历史街区': None, '天台': None, '地铁站': None, '桥梁': None, '街道': None, '中式园林': None, '公园草地': True, '湖泊': None, '路牌': None, '动物园': None, '迪士尼': None, '漫展': None, '自然': None, '清晨': None, '正午': None, '黄昏': None, '夜晚': None, '黄金时刻': None, '晴天': None, '雾霾': None, '阴天': None, '绵绵小雨': None, '大雨': None, '飘雪': None, '大雪': None, '极光': None, '花束': None, '乐器': None, '书籍': True, '泡泡机': None, '粉笔': None, '气球': None, '玩偶': None, '笔': None}, 'prompt': ['平视镜头，眼神交流', '手扶耳机，自然放松', '打开书本，放在腿上', '坐在草地，靠近球门', '利用光线，柔和自然']}, {'img': 'xhs_school/Camera_1040g34o31djd7j4ugc5g5n2aef24k7ddl565b9o.jpg', 'label': {'单人': True, '双人': None, '小团体（3-5人）': None, '大团体（6-10人）': None, '大群体（10人以上）': None, '朋友': None, '情侣': None, '闺蜜': None, '亲子': None, '商业伙伴': None, '宠物': None, '暖色调': True, '冷色调': None, '饱和度高': None, '饱和度低': None, '明度亮': True, '明度暗': None, '春节': None, '万圣节': None, '圣诞节': None, '情人节': None, '端午节': None, '中秋节': None, '婚礼': None, '毕业': None, '生日': None, '旅行': None, '汉服': None, '波西米亚': None, 'JK': None, '和风': None, '美式街头': None, '西装': None, '休闲装': True, 'cosplay': None, '森系': None, '家庭': None, '影棚': None, '咖啡馆': None, '图书馆': None, '精品店': None, '教室': None, 'CBD': None, '历史街区': None, '天台': None, '地铁站': None, '桥梁': None, '街道': None, '中式园林': None, '公园草地': True, '湖泊': None, '路牌': None, '动物园': None, '迪士尼': None, '漫展': None, '自然': None, '清晨': True, '正午': None, '黄昏': None, '夜晚': None, '黄金时刻': None, '晴天': True, '雾霾': None, '阴天': None, '绵绵小雨': None, '大雨': None, '飘雪': None, '大雪': None, '极光': None, '花束': None, '乐器': None, '书籍': True, '泡泡机': None, '粉笔': None, '气球': None, '玩偶': None, '笔': None}, 'prompt': ['坐在草地上，手拿书本', '头部微倾，看向镜头', '佩戴耳机，自然放松', '柔和光线下拍摄', '视线交流，眼神温柔', '平视角度拍摄']}]\n"
     ]
    }
   ],
   "source": [
    "import os\n",
    "import json\n",
    "\n",
    "json_name = 'xhs_school_change2.json'\n",
    "with open(json_name,\"r\") as f:\n",
    "    load_prompt = json.load(f)\n",
    "#for i in range(len(load_prompt)):\n",
    "#    print(load_prompt[i]['prompt'])\n",
    "print(load_prompt[:2])"
   ]
  },
  {
   "cell_type": "code",
   "execution_count": null,
   "id": "2d67175c",
   "metadata": {},
   "outputs": [],
   "source": []
  }
 ],
 "metadata": {
  "kernelspec": {
   "display_name": "Python (openai)",
   "language": "python",
   "name": "openai"
  },
  "language_info": {
   "codemirror_mode": {
    "name": "ipython",
    "version": 3
   },
   "file_extension": ".py",
   "mimetype": "text/x-python",
   "name": "python",
   "nbconvert_exporter": "python",
   "pygments_lexer": "ipython3",
   "version": "3.11.11"
  }
 },
 "nbformat": 4,
 "nbformat_minor": 5
}
