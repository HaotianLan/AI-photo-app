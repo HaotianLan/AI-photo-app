{
 "cells": [
  {
   "cell_type": "code",
   "execution_count": 1,
   "id": "1fe0f3d4",
   "metadata": {},
   "outputs": [
    {
     "ename": "ModuleNotFoundError",
     "evalue": "No module named 'jwt'",
     "output_type": "error",
     "traceback": [
      "\u001b[0;31m---------------------------------------------------------------------------\u001b[0m",
      "\u001b[0;31mModuleNotFoundError\u001b[0m                       Traceback (most recent call last)",
      "Input \u001b[0;32mIn [1]\u001b[0m, in \u001b[0;36m<cell line: 1>\u001b[0;34m()\u001b[0m\n\u001b[0;32m----> 1\u001b[0m \u001b[38;5;28;01mimport\u001b[39;00m \u001b[38;5;21;01mjwt\u001b[39;00m\n",
      "\u001b[0;31mModuleNotFoundError\u001b[0m: No module named 'jwt'"
     ]
    }
   ],
   "source": [
    "from sqlalchemy import create_engine, Column, Integer, String\n",
    "from sqlalchemy.ext.declarative import declarative_base\n",
    "from sqlalchemy.orm import sessionmaker\n",
    "\n",
    "# 创建一个基础类\n",
    "Base = declarative_base()\n",
    "\n",
    "# 定义一个 User 类（对应数据库中的一个表）\n",
    "class User(Base):\n",
    "    __tablename__ = 'users'\n",
    "\n",
    "    id = Column(Integer, primary_key=True)\n",
    "    name = Column(String)\n",
    "    age = Column(Integer)\n",
    "\n",
    "# 创建数据库连接（SQLite数据库示例）\n",
    "engine = create_engine('sqlite:///example.db', echo=True)\n",
    "\n",
    "# 创建所有表\n",
    "Base.metadata.create_all(engine)\n"
   ]
  },
  {
   "cell_type": "code",
   "execution_count": null,
   "id": "2baf7769",
   "metadata": {},
   "outputs": [],
   "source": [
    "from flask import Flask, request, jsonify\n",
    "import jwt\n",
    "import datetime\n",
    "\n",
    "app = Flask(__name__)\n",
    "CORS(app)  # 启用 CORS\n",
    "\n",
    "# 秘密密钥，用于加密JWT\n",
    "SECRET_KEY = \"your_secret_key\"\n",
    "\n",
    "# 模拟的用户数据\n",
    "USER_DATA = {\n",
    "    \"username\": \"都不许去星铁演唱会\",\n",
    "    \"password\": \"123456\"  # 简单的密码示例\n",
    "}\n",
    "\n",
    "# 登录接口\n",
    "@app.route('/login', methods=['POST'])\n",
    "def login():\n",
    "    try:\n",
    "        request.get_json()\n",
    "    except Exception as e:\n",
    "        return jsonify({\"error\": str(e)}), 300\n",
    "    data = request.get_json()\n",
    "\n",
    "    username = data.get('username')\n",
    "    password = data.get('password')\n",
    "    print(username,password)\n",
    "\n",
    "    # 简单的验证\n",
    "    if username == USER_DATA['username'] and password == USER_DATA['password']:\n",
    "        # 用户验证通过，生成JWT\n",
    "        token = jwt.encode(\n",
    "            {'username': username, 'exp': datetime.datetime.utcnow() + datetime.timedelta(hours=1)},\n",
    "            SECRET_KEY,\n",
    "            algorithm='HS256'\n",
    "        )\n",
    "        return jsonify({'token': token})  # 返回JWT\n",
    "    else:\n",
    "        return jsonify({'message': 'Invalid credentials'}), 401\n",
    "\n",
    "if __name__ == '__main__':\n",
    "    app.run(port=5001, debug=True)\n"
   ]
  },
  {
   "cell_type": "code",
   "execution_count": null,
   "id": "fcb988e8",
   "metadata": {},
   "outputs": [],
   "source": [
    "const params = {\n",
    "      q: searchQuery.value.trim(),\n",
    "      selectedTags: selectedTags.value.join(',')\n",
    "    }"
   ]
  }
 ],
 "metadata": {
  "kernelspec": {
   "display_name": "Python (openai)",
   "language": "python",
   "name": "openai"
  },
  "language_info": {
   "codemirror_mode": {
    "name": "ipython",
    "version": 3
   },
   "file_extension": ".py",
   "mimetype": "text/x-python",
   "name": "python",
   "nbconvert_exporter": "python",
   "pygments_lexer": "ipython3",
   "version": "3.9.12"
  }
 },
 "nbformat": 4,
 "nbformat_minor": 5
}
