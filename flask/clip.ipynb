{
 "cells": [
  {
   "cell_type": "code",
   "execution_count": 1,
   "id": "102352b5",
   "metadata": {},
   "outputs": [
    {
     "name": "stderr",
     "output_type": "stream",
     "text": [
      "/Users/lanhaotian/opt/anaconda3/envs/frb/lib/python3.8/site-packages/tqdm/auto.py:21: TqdmWarning: IProgress not found. Please update jupyter and ipywidgets. See https://ipywidgets.readthedocs.io/en/stable/user_install.html\n",
      "  from .autonotebook import tqdm as notebook_tqdm\n"
     ]
    }
   ],
   "source": [
    "import torch\n",
    "import os\n",
    "from PIL import Image\n",
    "import open_clip\n",
    "\n",
    "# 模型设置\n",
    "device = 'mps'  # 或 'cuda' / 'cpu'\n",
    "model, preprocess, tokenizer = open_clip.create_model_and_transforms(\n",
    "    'ViT-B-32',\n",
    "    pretrained='laion2b_s34b_b79k',\n",
    "    device=device\n",
    ")\n",
    "\n",
    "# 图像目录\n",
    "root = '/Users/lanhaotian/Desktop/python/OpenAI/flask/xhs_school'\n",
    "lst = os.listdir(root)\n",
    "\n",
    "# 存储特征和路径\n",
    "image_features_list = []\n",
    "image_paths = []\n",
    "\n",
    "for filename in lst:\n",
    "    img_path = os.path.join(root, filename)\n",
    "    try:\n",
    "        image = Image.open(img_path).convert(\"RGB\")\n",
    "    except:\n",
    "        continue  # 跳过无法读取的图像\n",
    "\n",
    "    image_input = preprocess(image).unsqueeze(0).to(device)\n",
    "    with torch.no_grad():\n",
    "        features = model.encode_image(image_input)\n",
    "        features = features / features.norm(dim=-1, keepdim=True)  # 归一化\n",
    "    image_features_list.append(features.cpu())  # 转到 CPU\n",
    "    image_paths.append(img_path)\n",
    "\n",
    "# 合并所有特征为一个大 tensor\n",
    "database_features = torch.cat(image_features_list)  # shape: [N, D]\n",
    "\n",
    "# 保存特征和路径\n",
    "torch.save({\n",
    "    'features': database_features,\n",
    "    'paths': image_paths\n",
    "}, 'image_database.pt')\n"
   ]
  },
  {
   "cell_type": "code",
   "execution_count": null,
   "id": "7d8dedc5",
   "metadata": {},
   "outputs": [],
   "source": []
  }
 ],
 "metadata": {
  "kernelspec": {
   "display_name": "frb",
   "language": "python",
   "name": "frb"
  },
  "language_info": {
   "codemirror_mode": {
    "name": "ipython",
    "version": 3
   },
   "file_extension": ".py",
   "mimetype": "text/x-python",
   "name": "python",
   "nbconvert_exporter": "python",
   "pygments_lexer": "ipython3",
   "version": "3.8.13"
  }
 },
 "nbformat": 4,
 "nbformat_minor": 5
}
